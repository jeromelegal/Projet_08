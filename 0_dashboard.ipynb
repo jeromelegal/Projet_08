{
 "cells": [
  {
   "cell_type": "markdown",
   "id": "4c0b7140-1f42-47c6-90ab-331e6071a497",
   "metadata": {},
   "source": [
    "# Projet 08 : Réalisez un dashboard et assurez une veille technique :"
   ]
  },
  {
   "cell_type": "code",
   "execution_count": 2,
   "id": "5fa171de-10ae-4382-98b6-ca86f08d2c43",
   "metadata": {},
   "outputs": [],
   "source": [
    "import pandas as pd\n",
    "import numpy as np\n",
    "import pprint\n",
    "import streamlit as st\n",
    "import os\n",
    "from IPython.display import display"
   ]
  },
  {
   "cell_type": "markdown",
   "id": "96e2b50e-c06d-4b77-983b-810c5310a2a5",
   "metadata": {},
   "source": [
    "## Etape 1 - Elaborez le Dashboard :"
   ]
  },
  {
   "cell_type": "markdown",
   "id": "465cc9d5-9f6d-4e17-85aa-e39b7e5b60b4",
   "metadata": {},
   "source": [
    "### 1.1 - Collecte d'informations :"
   ]
  },
  {
   "cell_type": "markdown",
   "id": "cec0d5bf-247e-4f08-9527-695d4d9cee45",
   "metadata": {},
   "source": [
    "**Contexte :**  \n",
    "Suite à la réalisation de l'outil de scoring disponible sur cloud, on nous demande de créer une interface plus compète sous forme de Dashboard intéractif."
   ]
  },
  {
   "cell_type": "markdown",
   "id": "a46668cc-e48f-4b69-b03e-7a12defa9a47",
   "metadata": {},
   "source": [
    "**Spécifications demandées :**  \n",
    "* Visualisation du score et de la probalité, interprétable de façon intelligible pour un novice.\n",
    "* Visualisation des principales informations descriptives du client traité.\n",
    "* Graphiques de comparaison des principales informations descriptives par rapport à:\n",
    "    * la totalité des clients\n",
    "    * un groupe (filtres des infos descriptives)\n",
    "* Graphiques couvrant des critères d'accessibilité du CWAG\n",
    "* Dashboard déployé sur le cloud\n",
    "* Optionnel :\n",
    "    * Possibilité de mise à jour sur modification d'infos du client\n",
    "    * Possibilité de changer de dossier client"
   ]
  },
  {
   "cell_type": "markdown",
   "id": "41b96c4b-7319-4ed2-b0e2-94ffda2d3c13",
   "metadata": {},
   "source": [
    "---\n",
    "### 1.2 Blueprint :"
   ]
  },
  {
   "cell_type": "code",
   "execution_count": 3,
   "id": "9309d301-b64d-4c1f-aadf-4e71472df05b",
   "metadata": {},
   "outputs": [],
   "source": [
    "blueprint = pd.DataFrame({\n",
    "    \"Besoins\": [\"Détails du crédit\",\"Visualisation du score et sa probabilité \\n(loin du seuil ?)\", \"Interprétation du score de façon simple\", \"Principales informations descriptives du client\",\"Comparaison des infos du client par rapport à: \\n-L'ensemble des clients \\nUn groupe (filtres)\"  ],\n",
    "    \"Questions types\": [\"Quels sont les détails du crédit demandé ?\", \"Quel est le score obtenu par le client ? \\nQuelle est la probabilité et où se trouve t-elle par rapport au seuil ?\", \"Quels paramètres ont contribués le plus au choix ?\", \"-Age, sexe, Possède une voiture ?, Possède un logement ? \\n-Quelle est la situation professionnelle du client ? \\n-Quelle est sa situation maritale ? enfant ?\", \"Où se trouve ce client par rapport aux autres ?\"],\n",
    "    \"Indicateurs et données nécessaires\": [\"Données nécessaires: \\n-Type de crédit \\n-Montant du crédit \\n\\nIndicateurs à afficher : \\n-NAME_CONTRACT_TYPE \\n-AMT_CREDIT \", \"Données nécessaires: \\n-score client \\n-probabilité client \\n\\nIndicateurs à afficher : \\n-Business_score \\n-predict_proba\" , \"Données nécessaires : \\nFeature Importance Locale \\n\\nIndicateurs à afficher : \\n-TreeExplainer de shap\", \"Données nécessaires : \\n-Informations descriptives du client en cours \\n\\nIndicateurs à afficher : \\n-SK_ID_CURR, DAYS_BIRTH, CODE_GENDER, FLAG_OWN_CAR, FLAG_OWN_REALTY \\n-AMT_INCOME_TOTAL \\n-NAME_FAMILY_STATUS \\n-CNT_CHILDREN\", \"Données nécessaires : informations descriptives de tous les clients \\n\\nIndicateurs à afficher : \\n-Moyenne globale ou par groupe des informations descriptives\"],\n",
    "    \"Visualisations\": [\"\", \"\",\"\", \"\", \"\"]\n",
    "})"
   ]
  },
  {
   "cell_type": "code",
   "execution_count": 4,
   "id": "23daf542-e748-4056-873d-19cb15b77f13",
   "metadata": {},
   "outputs": [
    {
     "data": {
      "text/html": [
       "<style type=\"text/css\">\n",
       "#T_0a4eb th {\n",
       "  text-align: left;\n",
       "}\n",
       "#T_0a4eb_row0_col0, #T_0a4eb_row0_col1, #T_0a4eb_row0_col2, #T_0a4eb_row0_col3, #T_0a4eb_row1_col0, #T_0a4eb_row1_col1, #T_0a4eb_row1_col2, #T_0a4eb_row1_col3, #T_0a4eb_row2_col0, #T_0a4eb_row2_col1, #T_0a4eb_row2_col2, #T_0a4eb_row2_col3, #T_0a4eb_row3_col0, #T_0a4eb_row3_col1, #T_0a4eb_row3_col2, #T_0a4eb_row3_col3, #T_0a4eb_row4_col0, #T_0a4eb_row4_col1, #T_0a4eb_row4_col2, #T_0a4eb_row4_col3 {\n",
       "  white-space: pre-wrap;\n",
       "  text-align: left;\n",
       "}\n",
       "</style>\n",
       "<table id=\"T_0a4eb\">\n",
       "  <thead>\n",
       "    <tr>\n",
       "      <th class=\"blank level0\" >&nbsp;</th>\n",
       "      <th id=\"T_0a4eb_level0_col0\" class=\"col_heading level0 col0\" >Besoins</th>\n",
       "      <th id=\"T_0a4eb_level0_col1\" class=\"col_heading level0 col1\" >Questions types</th>\n",
       "      <th id=\"T_0a4eb_level0_col2\" class=\"col_heading level0 col2\" >Indicateurs et données nécessaires</th>\n",
       "      <th id=\"T_0a4eb_level0_col3\" class=\"col_heading level0 col3\" >Visualisations</th>\n",
       "    </tr>\n",
       "  </thead>\n",
       "  <tbody>\n",
       "    <tr>\n",
       "      <th id=\"T_0a4eb_level0_row0\" class=\"row_heading level0 row0\" >0</th>\n",
       "      <td id=\"T_0a4eb_row0_col0\" class=\"data row0 col0\" >Détails du crédit</td>\n",
       "      <td id=\"T_0a4eb_row0_col1\" class=\"data row0 col1\" >Quels sont les détails du crédit demandé ?</td>\n",
       "      <td id=\"T_0a4eb_row0_col2\" class=\"data row0 col2\" >Données nécessaires: \n",
       "-Type de crédit \n",
       "-Montant du crédit \n",
       "\n",
       "Indicateurs à afficher : \n",
       "-NAME_CONTRACT_TYPE \n",
       "-AMT_CREDIT </td>\n",
       "      <td id=\"T_0a4eb_row0_col3\" class=\"data row0 col3\" ></td>\n",
       "    </tr>\n",
       "    <tr>\n",
       "      <th id=\"T_0a4eb_level0_row1\" class=\"row_heading level0 row1\" >1</th>\n",
       "      <td id=\"T_0a4eb_row1_col0\" class=\"data row1 col0\" >Visualisation du score et sa probabilité \n",
       "(loin du seuil ?)</td>\n",
       "      <td id=\"T_0a4eb_row1_col1\" class=\"data row1 col1\" >Quel est le score obtenu par le client ? \n",
       "Quelle est la probabilité et où se trouve t-elle par rapport au seuil ?</td>\n",
       "      <td id=\"T_0a4eb_row1_col2\" class=\"data row1 col2\" >Données nécessaires: \n",
       "-score client \n",
       "-probabilité client \n",
       "\n",
       "Indicateurs à afficher : \n",
       "-Business_score \n",
       "-predict_proba</td>\n",
       "      <td id=\"T_0a4eb_row1_col3\" class=\"data row1 col3\" ></td>\n",
       "    </tr>\n",
       "    <tr>\n",
       "      <th id=\"T_0a4eb_level0_row2\" class=\"row_heading level0 row2\" >2</th>\n",
       "      <td id=\"T_0a4eb_row2_col0\" class=\"data row2 col0\" >Interprétation du score de façon simple</td>\n",
       "      <td id=\"T_0a4eb_row2_col1\" class=\"data row2 col1\" >Quels paramètres ont contribués le plus au choix ?</td>\n",
       "      <td id=\"T_0a4eb_row2_col2\" class=\"data row2 col2\" >Données nécessaires : \n",
       "Feature Importance Locale \n",
       "\n",
       "Indicateurs à afficher : \n",
       "-TreeExplainer de shap</td>\n",
       "      <td id=\"T_0a4eb_row2_col3\" class=\"data row2 col3\" ></td>\n",
       "    </tr>\n",
       "    <tr>\n",
       "      <th id=\"T_0a4eb_level0_row3\" class=\"row_heading level0 row3\" >3</th>\n",
       "      <td id=\"T_0a4eb_row3_col0\" class=\"data row3 col0\" >Principales informations descriptives du client</td>\n",
       "      <td id=\"T_0a4eb_row3_col1\" class=\"data row3 col1\" >-Age, sexe, Possède une voiture ?, Possède un logement ? \n",
       "-Quelle est la situation professionnelle du client ? \n",
       "-Quelle est sa situation maritale ? enfant ?</td>\n",
       "      <td id=\"T_0a4eb_row3_col2\" class=\"data row3 col2\" >Données nécessaires : \n",
       "-Informations descriptives du client en cours \n",
       "\n",
       "Indicateurs à afficher : \n",
       "-SK_ID_CURR, DAYS_BIRTH, CODE_GENDER, FLAG_OWN_CAR, FLAG_OWN_REALTY \n",
       "-AMT_INCOME_TOTAL \n",
       "-NAME_FAMILY_STATUS \n",
       "-CNT_CHILDREN</td>\n",
       "      <td id=\"T_0a4eb_row3_col3\" class=\"data row3 col3\" ></td>\n",
       "    </tr>\n",
       "    <tr>\n",
       "      <th id=\"T_0a4eb_level0_row4\" class=\"row_heading level0 row4\" >4</th>\n",
       "      <td id=\"T_0a4eb_row4_col0\" class=\"data row4 col0\" >Comparaison des infos du client par rapport à: \n",
       "-L'ensemble des clients \n",
       "Un groupe (filtres)</td>\n",
       "      <td id=\"T_0a4eb_row4_col1\" class=\"data row4 col1\" >Où se trouve ce client par rapport aux autres ?</td>\n",
       "      <td id=\"T_0a4eb_row4_col2\" class=\"data row4 col2\" >Données nécessaires : informations descriptives de tous les clients \n",
       "\n",
       "Indicateurs à afficher : \n",
       "-Moyenne globale ou par groupe des informations descriptives</td>\n",
       "      <td id=\"T_0a4eb_row4_col3\" class=\"data row4 col3\" ></td>\n",
       "    </tr>\n",
       "  </tbody>\n",
       "</table>\n"
      ],
      "text/plain": [
       "<pandas.io.formats.style.Styler at 0x7d82897d5700>"
      ]
     },
     "metadata": {},
     "output_type": "display_data"
    }
   ],
   "source": [
    "styled_blueprint = blueprint.style.set_properties(**{'white-space': 'pre-wrap', 'text-align': 'left'}).set_table_styles([\n",
    "                                      {'selector': 'th', 'props': [('text-align', 'left')]}])\n",
    "display(styled_blueprint)"
   ]
  },
  {
   "cell_type": "code",
   "execution_count": 5,
   "id": "d7357c1a-a160-4b40-8494-381ed44b5ae2",
   "metadata": {},
   "outputs": [],
   "source": [
    "# folder path\n",
    "\n",
    "folder = \"././Projet_07/data/source/\""
   ]
  },
  {
   "cell_type": "code",
   "execution_count": 16,
   "id": "99c6d336-6f40-4e91-bf76-b950ea2ab66a",
   "metadata": {
    "jupyter": {
     "source_hidden": true
    }
   },
   "outputs": [
    {
     "name": "stdout",
     "output_type": "stream",
     "text": [
      "['application_test.csv',\n",
      " '.ipynb_checkpoints',\n",
      " 'sample_submission.csv',\n",
      " 'bureau.csv',\n",
      " 'credit_card_balance.csv',\n",
      " 'HomeCredit_columns_description.csv',\n",
      " 'bureau_balance.csv',\n",
      " 'POS_CASH_balance.csv',\n",
      " 'installments_payments.csv',\n",
      " 'application_train.csv',\n",
      " 'previous_application.csv']\n"
     ]
    }
   ],
   "source": [
    "# list files available\n",
    "\n",
    "pprint(os.listdir(folder))"
   ]
  },
  {
   "cell_type": "code",
   "execution_count": 17,
   "id": "42a0339a-bcdb-44f0-af80-4e5da5716493",
   "metadata": {},
   "outputs": [],
   "source": [
    "df = pd.read_csv(folder + 'application_train.csv')"
   ]
  },
  {
   "cell_type": "code",
   "execution_count": 31,
   "id": "84ab184d-9c4f-45a7-9a1d-da3e70e560fd",
   "metadata": {},
   "outputs": [],
   "source": [
    "list_cols = df.columns.to_list()"
   ]
  },
  {
   "cell_type": "code",
   "execution_count": 32,
   "id": "f1c72e3a-7ff9-41c5-a721-222ddf9eaf90",
   "metadata": {},
   "outputs": [
    {
     "name": "stdout",
     "output_type": "stream",
     "text": [
      "['SK_ID_CURR', 'TARGET', 'NAME_CONTRACT_TYPE', 'CODE_GENDER', 'FLAG_OWN_CAR', 'FLAG_OWN_REALTY', 'CNT_CHILDREN', 'AMT_INCOME_TOTAL', 'AMT_CREDIT', 'AMT_ANNUITY', 'AMT_GOODS_PRICE', 'NAME_TYPE_SUITE', 'NAME_INCOME_TYPE', 'NAME_EDUCATION_TYPE', 'NAME_FAMILY_STATUS', 'NAME_HOUSING_TYPE', 'REGION_POPULATION_RELATIVE', 'DAYS_BIRTH', 'DAYS_EMPLOYED', 'DAYS_REGISTRATION', 'DAYS_ID_PUBLISH', 'OWN_CAR_AGE', 'FLAG_MOBIL', 'FLAG_EMP_PHONE', 'FLAG_WORK_PHONE', 'FLAG_CONT_MOBILE', 'FLAG_PHONE', 'FLAG_EMAIL', 'OCCUPATION_TYPE', 'CNT_FAM_MEMBERS', 'REGION_RATING_CLIENT', 'REGION_RATING_CLIENT_W_CITY', 'WEEKDAY_APPR_PROCESS_START', 'HOUR_APPR_PROCESS_START', 'REG_REGION_NOT_LIVE_REGION', 'REG_REGION_NOT_WORK_REGION', 'LIVE_REGION_NOT_WORK_REGION', 'REG_CITY_NOT_LIVE_CITY', 'REG_CITY_NOT_WORK_CITY', 'LIVE_CITY_NOT_WORK_CITY', 'ORGANIZATION_TYPE', 'EXT_SOURCE_1', 'EXT_SOURCE_2', 'EXT_SOURCE_3', 'APARTMENTS_AVG', 'BASEMENTAREA_AVG', 'YEARS_BEGINEXPLUATATION_AVG', 'YEARS_BUILD_AVG', 'COMMONAREA_AVG', 'ELEVATORS_AVG', 'ENTRANCES_AVG', 'FLOORSMAX_AVG', 'FLOORSMIN_AVG', 'LANDAREA_AVG', 'LIVINGAPARTMENTS_AVG', 'LIVINGAREA_AVG', 'NONLIVINGAPARTMENTS_AVG', 'NONLIVINGAREA_AVG', 'APARTMENTS_MODE', 'BASEMENTAREA_MODE', 'YEARS_BEGINEXPLUATATION_MODE', 'YEARS_BUILD_MODE', 'COMMONAREA_MODE', 'ELEVATORS_MODE', 'ENTRANCES_MODE', 'FLOORSMAX_MODE', 'FLOORSMIN_MODE', 'LANDAREA_MODE', 'LIVINGAPARTMENTS_MODE', 'LIVINGAREA_MODE', 'NONLIVINGAPARTMENTS_MODE', 'NONLIVINGAREA_MODE', 'APARTMENTS_MEDI', 'BASEMENTAREA_MEDI', 'YEARS_BEGINEXPLUATATION_MEDI', 'YEARS_BUILD_MEDI', 'COMMONAREA_MEDI', 'ELEVATORS_MEDI', 'ENTRANCES_MEDI', 'FLOORSMAX_MEDI', 'FLOORSMIN_MEDI', 'LANDAREA_MEDI', 'LIVINGAPARTMENTS_MEDI', 'LIVINGAREA_MEDI', 'NONLIVINGAPARTMENTS_MEDI', 'NONLIVINGAREA_MEDI', 'FONDKAPREMONT_MODE', 'HOUSETYPE_MODE', 'TOTALAREA_MODE', 'WALLSMATERIAL_MODE', 'EMERGENCYSTATE_MODE', 'OBS_30_CNT_SOCIAL_CIRCLE', 'DEF_30_CNT_SOCIAL_CIRCLE', 'OBS_60_CNT_SOCIAL_CIRCLE', 'DEF_60_CNT_SOCIAL_CIRCLE', 'DAYS_LAST_PHONE_CHANGE', 'FLAG_DOCUMENT_2', 'FLAG_DOCUMENT_3', 'FLAG_DOCUMENT_4', 'FLAG_DOCUMENT_5', 'FLAG_DOCUMENT_6', 'FLAG_DOCUMENT_7', 'FLAG_DOCUMENT_8', 'FLAG_DOCUMENT_9', 'FLAG_DOCUMENT_10', 'FLAG_DOCUMENT_11', 'FLAG_DOCUMENT_12', 'FLAG_DOCUMENT_13', 'FLAG_DOCUMENT_14', 'FLAG_DOCUMENT_15', 'FLAG_DOCUMENT_16', 'FLAG_DOCUMENT_17', 'FLAG_DOCUMENT_18', 'FLAG_DOCUMENT_19', 'FLAG_DOCUMENT_20', 'FLAG_DOCUMENT_21', 'AMT_REQ_CREDIT_BUREAU_HOUR', 'AMT_REQ_CREDIT_BUREAU_DAY', 'AMT_REQ_CREDIT_BUREAU_WEEK', 'AMT_REQ_CREDIT_BUREAU_MON', 'AMT_REQ_CREDIT_BUREAU_QRT', 'AMT_REQ_CREDIT_BUREAU_YEAR']\n"
     ]
    }
   ],
   "source": [
    "print(list_cols)"
   ]
  },
  {
   "cell_type": "code",
   "execution_count": 75,
   "id": "b11cfb60-0e18-4c9d-96f7-0172c63df63c",
   "metadata": {},
   "outputs": [
    {
     "data": {
      "text/html": [
       "<div>\n",
       "<style scoped>\n",
       "    .dataframe tbody tr th:only-of-type {\n",
       "        vertical-align: middle;\n",
       "    }\n",
       "\n",
       "    .dataframe tbody tr th {\n",
       "        vertical-align: top;\n",
       "    }\n",
       "\n",
       "    .dataframe thead th {\n",
       "        text-align: right;\n",
       "    }\n",
       "</style>\n",
       "<table border=\"1\" class=\"dataframe\">\n",
       "  <thead>\n",
       "    <tr style=\"text-align: right;\">\n",
       "      <th></th>\n",
       "      <th>SK_ID_CURR</th>\n",
       "      <th>TARGET</th>\n",
       "      <th>NAME_CONTRACT_TYPE</th>\n",
       "      <th>CODE_GENDER</th>\n",
       "      <th>FLAG_OWN_CAR</th>\n",
       "      <th>FLAG_OWN_REALTY</th>\n",
       "      <th>CNT_CHILDREN</th>\n",
       "      <th>AMT_INCOME_TOTAL</th>\n",
       "      <th>AMT_CREDIT</th>\n",
       "      <th>AMT_ANNUITY</th>\n",
       "      <th>...</th>\n",
       "      <th>FLAG_DOCUMENT_18</th>\n",
       "      <th>FLAG_DOCUMENT_19</th>\n",
       "      <th>FLAG_DOCUMENT_20</th>\n",
       "      <th>FLAG_DOCUMENT_21</th>\n",
       "      <th>AMT_REQ_CREDIT_BUREAU_HOUR</th>\n",
       "      <th>AMT_REQ_CREDIT_BUREAU_DAY</th>\n",
       "      <th>AMT_REQ_CREDIT_BUREAU_WEEK</th>\n",
       "      <th>AMT_REQ_CREDIT_BUREAU_MON</th>\n",
       "      <th>AMT_REQ_CREDIT_BUREAU_QRT</th>\n",
       "      <th>AMT_REQ_CREDIT_BUREAU_YEAR</th>\n",
       "    </tr>\n",
       "  </thead>\n",
       "  <tbody>\n",
       "    <tr>\n",
       "      <th>0</th>\n",
       "      <td>100002</td>\n",
       "      <td>1</td>\n",
       "      <td>Cash loans</td>\n",
       "      <td>M</td>\n",
       "      <td>N</td>\n",
       "      <td>Y</td>\n",
       "      <td>0</td>\n",
       "      <td>202500.0</td>\n",
       "      <td>406597.5</td>\n",
       "      <td>24700.5</td>\n",
       "      <td>...</td>\n",
       "      <td>0</td>\n",
       "      <td>0</td>\n",
       "      <td>0</td>\n",
       "      <td>0</td>\n",
       "      <td>0.0</td>\n",
       "      <td>0.0</td>\n",
       "      <td>0.0</td>\n",
       "      <td>0.0</td>\n",
       "      <td>0.0</td>\n",
       "      <td>1.0</td>\n",
       "    </tr>\n",
       "    <tr>\n",
       "      <th>1</th>\n",
       "      <td>100003</td>\n",
       "      <td>0</td>\n",
       "      <td>Cash loans</td>\n",
       "      <td>F</td>\n",
       "      <td>N</td>\n",
       "      <td>N</td>\n",
       "      <td>0</td>\n",
       "      <td>270000.0</td>\n",
       "      <td>1293502.5</td>\n",
       "      <td>35698.5</td>\n",
       "      <td>...</td>\n",
       "      <td>0</td>\n",
       "      <td>0</td>\n",
       "      <td>0</td>\n",
       "      <td>0</td>\n",
       "      <td>0.0</td>\n",
       "      <td>0.0</td>\n",
       "      <td>0.0</td>\n",
       "      <td>0.0</td>\n",
       "      <td>0.0</td>\n",
       "      <td>0.0</td>\n",
       "    </tr>\n",
       "    <tr>\n",
       "      <th>2</th>\n",
       "      <td>100004</td>\n",
       "      <td>0</td>\n",
       "      <td>Revolving loans</td>\n",
       "      <td>M</td>\n",
       "      <td>Y</td>\n",
       "      <td>Y</td>\n",
       "      <td>0</td>\n",
       "      <td>67500.0</td>\n",
       "      <td>135000.0</td>\n",
       "      <td>6750.0</td>\n",
       "      <td>...</td>\n",
       "      <td>0</td>\n",
       "      <td>0</td>\n",
       "      <td>0</td>\n",
       "      <td>0</td>\n",
       "      <td>0.0</td>\n",
       "      <td>0.0</td>\n",
       "      <td>0.0</td>\n",
       "      <td>0.0</td>\n",
       "      <td>0.0</td>\n",
       "      <td>0.0</td>\n",
       "    </tr>\n",
       "    <tr>\n",
       "      <th>3</th>\n",
       "      <td>100006</td>\n",
       "      <td>0</td>\n",
       "      <td>Cash loans</td>\n",
       "      <td>F</td>\n",
       "      <td>N</td>\n",
       "      <td>Y</td>\n",
       "      <td>0</td>\n",
       "      <td>135000.0</td>\n",
       "      <td>312682.5</td>\n",
       "      <td>29686.5</td>\n",
       "      <td>...</td>\n",
       "      <td>0</td>\n",
       "      <td>0</td>\n",
       "      <td>0</td>\n",
       "      <td>0</td>\n",
       "      <td>NaN</td>\n",
       "      <td>NaN</td>\n",
       "      <td>NaN</td>\n",
       "      <td>NaN</td>\n",
       "      <td>NaN</td>\n",
       "      <td>NaN</td>\n",
       "    </tr>\n",
       "    <tr>\n",
       "      <th>4</th>\n",
       "      <td>100007</td>\n",
       "      <td>0</td>\n",
       "      <td>Cash loans</td>\n",
       "      <td>M</td>\n",
       "      <td>N</td>\n",
       "      <td>Y</td>\n",
       "      <td>0</td>\n",
       "      <td>121500.0</td>\n",
       "      <td>513000.0</td>\n",
       "      <td>21865.5</td>\n",
       "      <td>...</td>\n",
       "      <td>0</td>\n",
       "      <td>0</td>\n",
       "      <td>0</td>\n",
       "      <td>0</td>\n",
       "      <td>0.0</td>\n",
       "      <td>0.0</td>\n",
       "      <td>0.0</td>\n",
       "      <td>0.0</td>\n",
       "      <td>0.0</td>\n",
       "      <td>0.0</td>\n",
       "    </tr>\n",
       "  </tbody>\n",
       "</table>\n",
       "<p>5 rows × 122 columns</p>\n",
       "</div>"
      ],
      "text/plain": [
       "   SK_ID_CURR  TARGET NAME_CONTRACT_TYPE CODE_GENDER FLAG_OWN_CAR  \\\n",
       "0      100002       1         Cash loans           M            N   \n",
       "1      100003       0         Cash loans           F            N   \n",
       "2      100004       0    Revolving loans           M            Y   \n",
       "3      100006       0         Cash loans           F            N   \n",
       "4      100007       0         Cash loans           M            N   \n",
       "\n",
       "  FLAG_OWN_REALTY  CNT_CHILDREN  AMT_INCOME_TOTAL  AMT_CREDIT  AMT_ANNUITY  \\\n",
       "0               Y             0          202500.0    406597.5      24700.5   \n",
       "1               N             0          270000.0   1293502.5      35698.5   \n",
       "2               Y             0           67500.0    135000.0       6750.0   \n",
       "3               Y             0          135000.0    312682.5      29686.5   \n",
       "4               Y             0          121500.0    513000.0      21865.5   \n",
       "\n",
       "   ...  FLAG_DOCUMENT_18 FLAG_DOCUMENT_19 FLAG_DOCUMENT_20 FLAG_DOCUMENT_21  \\\n",
       "0  ...                 0                0                0                0   \n",
       "1  ...                 0                0                0                0   \n",
       "2  ...                 0                0                0                0   \n",
       "3  ...                 0                0                0                0   \n",
       "4  ...                 0                0                0                0   \n",
       "\n",
       "  AMT_REQ_CREDIT_BUREAU_HOUR AMT_REQ_CREDIT_BUREAU_DAY  \\\n",
       "0                        0.0                       0.0   \n",
       "1                        0.0                       0.0   \n",
       "2                        0.0                       0.0   \n",
       "3                        NaN                       NaN   \n",
       "4                        0.0                       0.0   \n",
       "\n",
       "   AMT_REQ_CREDIT_BUREAU_WEEK  AMT_REQ_CREDIT_BUREAU_MON  \\\n",
       "0                         0.0                        0.0   \n",
       "1                         0.0                        0.0   \n",
       "2                         0.0                        0.0   \n",
       "3                         NaN                        NaN   \n",
       "4                         0.0                        0.0   \n",
       "\n",
       "   AMT_REQ_CREDIT_BUREAU_QRT  AMT_REQ_CREDIT_BUREAU_YEAR  \n",
       "0                        0.0                         1.0  \n",
       "1                        0.0                         0.0  \n",
       "2                        0.0                         0.0  \n",
       "3                        NaN                         NaN  \n",
       "4                        0.0                         0.0  \n",
       "\n",
       "[5 rows x 122 columns]"
      ]
     },
     "execution_count": 75,
     "metadata": {},
     "output_type": "execute_result"
    }
   ],
   "source": [
    "df.head()"
   ]
  },
  {
   "cell_type": "code",
   "execution_count": null,
   "id": "136765b4-a7ff-4081-8adf-433616cd3b32",
   "metadata": {},
   "outputs": [],
   "source": []
  },
  {
   "cell_type": "markdown",
   "id": "f5ae68da-facf-4a4a-bdcf-10b148944ba6",
   "metadata": {},
   "source": [
    "#### Actions :"
   ]
  },
  {
   "cell_type": "markdown",
   "id": "b8d74947-b903-43b2-b9db-91960dc567c7",
   "metadata": {},
   "source": [
    "* Fichier global complet avec predictions à mettre en cache dans Streamlit\n",
    "* MAJ des graphs pour mettre la valeur du client en lumière\n",
    "* Shap à mettre à recalculer à chaque modif de client"
   ]
  },
  {
   "cell_type": "markdown",
   "id": "884a2c93-0342-494d-b670-aee53838772f",
   "metadata": {},
   "source": [
    "#### Fonctions nécessaires :"
   ]
  },
  {
   "cell_type": "markdown",
   "id": "fc2a1c71-8c1d-4f6e-bda3-4f322fee9b70",
   "metadata": {},
   "source": [
    "* `retrieve_client_data` : récupère la ligne de data du client \n",
    "* `display_client_form` : affichage des données du client dans le form \"client\"\n",
    "* `display_credit_form` : affichage des données du crédit dans le form \"credit\"\n",
    "* `update_client_graphs` : mise à jour des graphs client en mettant en lumière la valeur du client\n",
    "* `shap_explainer` : calcul et affichage de l'explainer du client dans le form shap\n",
    "* `update_bivariate_graph` : mise à jour du graph bivarié en changeant une des valeurs"
   ]
  },
  {
   "cell_type": "code",
   "execution_count": null,
   "id": "3eda70cb-0799-47c7-9818-2f808c64bf99",
   "metadata": {},
   "outputs": [],
   "source": []
  },
  {
   "cell_type": "markdown",
   "id": "8f33c1ba-34a8-405a-9d30-baf4b160ba3c",
   "metadata": {},
   "source": [
    "---\n",
    "### 1.3 - Récupération de l'explainer SHAP :"
   ]
  },
  {
   "cell_type": "code",
   "execution_count": null,
   "id": "ca79568d-8aff-45a6-9024-85c5f4fd31a2",
   "metadata": {},
   "outputs": [],
   "source": []
  },
  {
   "cell_type": "code",
   "execution_count": null,
   "id": "b3f97aaf-345e-4d6a-9ece-d522ad67eccf",
   "metadata": {},
   "outputs": [],
   "source": []
  },
  {
   "cell_type": "code",
   "execution_count": null,
   "id": "13d403c8-1f26-48a7-bebf-913e5aa3e8d5",
   "metadata": {},
   "outputs": [],
   "source": []
  },
  {
   "cell_type": "code",
   "execution_count": null,
   "id": "8d3584e8-858a-4c63-9e66-5ef1b8e6558b",
   "metadata": {},
   "outputs": [],
   "source": []
  },
  {
   "cell_type": "code",
   "execution_count": null,
   "id": "3bb88dde-178e-4a8e-85a0-29e77382d54c",
   "metadata": {},
   "outputs": [],
   "source": []
  },
  {
   "cell_type": "code",
   "execution_count": null,
   "id": "96479a49-7717-469c-856d-2681a732e8f9",
   "metadata": {},
   "outputs": [],
   "source": []
  }
 ],
 "metadata": {
  "kernelspec": {
   "display_name": "python3-9",
   "language": "python",
   "name": "python3-9"
  },
  "language_info": {
   "codemirror_mode": {
    "name": "ipython",
    "version": 3
   },
   "file_extension": ".py",
   "mimetype": "text/x-python",
   "name": "python",
   "nbconvert_exporter": "python",
   "pygments_lexer": "ipython3",
   "version": "3.12.2"
  }
 },
 "nbformat": 4,
 "nbformat_minor": 5
}
